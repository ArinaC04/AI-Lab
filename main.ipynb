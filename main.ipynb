{
 "cells": [
  {
   "cell_type": "code",
   "execution_count": 29,
   "metadata": {},
   "outputs": [],
   "source": [
    "# user interface demo\n",
    "# core functionality:\n",
    "#   midi file to sheet music\n",
    "#   creating the structure for markov's chain\n",
    "#   predicting next note based on last note\n",
    "# convert back to midi file\n",
    "# output and download\n",
    "\n",
    "# unit tests\n",
    "# test coverage\n",
    "# code quality"
   ]
  },
  {
   "cell_type": "markdown",
   "metadata": {},
   "source": [
    "Imports"
   ]
  },
  {
   "cell_type": "code",
   "execution_count": 30,
   "metadata": {},
   "outputs": [],
   "source": [
    "from mido import MidiFile, MidiTrack, Message\n",
    "import random"
   ]
  },
  {
   "cell_type": "markdown",
   "metadata": {},
   "source": [
    "Converting a midi number to pitch"
   ]
  },
  {
   "cell_type": "code",
   "execution_count": 31,
   "metadata": {},
   "outputs": [],
   "source": [
    "def note(midi_note):\n",
    "    notes = [\n",
    "        'C', 'C#', 'D', 'D#', 'E', 'F', 'F#', 'G', 'G#', 'A', 'A#', 'B'\n",
    "    ]\n",
    "    octave = (midi_note // 12) - 2  \n",
    "    note_name = notes[midi_note % 12]\n",
    "    return f\"{note_name}{octave}\""
   ]
  },
  {
   "cell_type": "markdown",
   "metadata": {},
   "source": [
    "Converting pitch to midi number"
   ]
  },
  {
   "cell_type": "code",
   "execution_count": 32,
   "metadata": {},
   "outputs": [],
   "source": [
    "def midi(note):\n",
    "    notes = [\n",
    "        'C', 'C#', 'D', 'D#', 'E', 'F', 'F#', 'G', 'G#', 'A', 'A#', 'B'\n",
    "    ]\n",
    "    i=0\n",
    "    while notes[i]!=note[:-1]:\n",
    "        i+=1\n",
    "        \n",
    "    return (int(note[-1])+2) * 12 + i"
   ]
  },
  {
   "cell_type": "markdown",
   "metadata": {},
   "source": [
    "Converting midi to pitch, duration"
   ]
  },
  {
   "cell_type": "code",
   "execution_count": 33,
   "metadata": {},
   "outputs": [],
   "source": [
    "def midi_to_pitch(file):\n",
    "    midi_file = MidiFile(file)\n",
    "    pitches = []\n",
    "    duration = []\n",
    "    midi_pitches = []\n",
    "    for track in midi_file.tracks:\n",
    "        for msg in track:\n",
    "            if msg.type == 'note_on':  # note_on event\n",
    "                #pitch = midi_to_pitch(msg.note)  # Convert MIDI number to pitch name\n",
    "                pitches.append(note(msg.note))\n",
    "                midi_pitches.append(msg.note)\n",
    "            if msg.type == 'note_off':  # note_on event\n",
    "                duration.append(msg.time)\n",
    "            # if msg.type == 'program_change':\n",
    "            #     print(msg.program)\n",
    "    return pitches, duration"
   ]
  },
  {
   "cell_type": "markdown",
   "metadata": {},
   "source": [
    "Converting pitch, duration to midi"
   ]
  },
  {
   "cell_type": "code",
   "execution_count": 34,
   "metadata": {},
   "outputs": [],
   "source": [
    "def pitch_to_midi(pitches, instrument):\n",
    "    notes = []\n",
    "    # Create a new MIDI file\n",
    "    midi_file = MidiFile()\n",
    "    track = MidiTrack()\n",
    "    midi_file.tracks.append(track)\n",
    "    track.append(Message('program_change', program=instrument))\n",
    "    for i in range(len(pitches)):\n",
    "        notes.append((midi(pitches[i]), 300))\n",
    "        #notes.append((midi(pitches[i]), duration[i]))\n",
    "    for pitch, d in notes:\n",
    "        track.append(Message('note_on', note=pitch, velocity=64, time=0))  # Start the note\n",
    "        track.append(Message('note_off', note=pitch, velocity=64, time=d))  # Stop the note after 'duration' ticks\n",
    "\n",
    "    midi_file.save('output.mid')"
   ]
  },
  {
   "cell_type": "code",
   "execution_count": 35,
   "metadata": {},
   "outputs": [],
   "source": [
    "class Node:\n",
    "    def __init__(self, note):\n",
    "        self.note = note\n",
    "        self.probability = 0\n",
    "        self.freq = 1\n",
    "        self.children = {}\n",
    "    \n",
    "    def add_child(self, note):\n",
    "        self.children[note] = Node(note)\n",
    "\n",
    "    \n",
    "    def new_notes(self, note2, note3):\n",
    "        self.freq += 1\n",
    "        if note2 in self.children:\n",
    "            for child in self.children:\n",
    "                if child == note2:\n",
    "                    self.children[child].freq += 1\n",
    "                    if note3 in self.children[child].children:\n",
    "                        for child2 in self.children[child].children:\n",
    "                            if child2 == note3:\n",
    "                                self.children[child].children[child2].freq += 1\n",
    "                    else:\n",
    "                        self.children[child].add_child(note3)\n",
    "        else:\n",
    "            self.add_child(note2)\n",
    "            self.children[note2].add_child(note3)"
   ]
  },
  {
   "cell_type": "code",
   "execution_count": 36,
   "metadata": {},
   "outputs": [],
   "source": [
    "def get_prob():\n",
    "    for root in roots.values():\n",
    "        for node2 in root.children:\n",
    "            root.children[node2].probability = root.children[node2].freq/root.freq\n",
    "            for node3 in root.children[node2].children:\n",
    "                root.children[node2].children[node3].probability = root.children[node2].children[node3].freq/root.children[node2].freq\n"
   ]
  },
  {
   "cell_type": "code",
   "execution_count": 37,
   "metadata": {},
   "outputs": [],
   "source": [
    "def print_trie():\n",
    "    for root in roots.values():\n",
    "        print(root.note)\n",
    "        for node2 in root.children:\n",
    "            print(\"\\t\", node2, round(root.children[node2].probability, 2))\n",
    "            for node3 in root.children[node2].children:\n",
    "                print(\"\\t\\t\", node3, round(root.children[node2].children[node3].probability, 2))\n",
    "\n",
    "        print(\"\\n \\n\")"
   ]
  },
  {
   "cell_type": "markdown",
   "metadata": {},
   "source": [
    "Creating the probability trie"
   ]
  },
  {
   "cell_type": "code",
   "execution_count": 38,
   "metadata": {},
   "outputs": [],
   "source": [
    "#pitches = [\"C\", \"A\", \"D\", \"C\", \"B\", \"A\", \"C\", \"A\", \"E\", \"C\", \"B\", \"E\", \"C\", \"B\", \"A\"]\n",
    "roots = {}\n",
    "def trie(pitches, duration):\n",
    "    for i in range(len(pitches)-2):\n",
    "        if pitches[i] not in roots:\n",
    "            roots[pitches[i]] = Node(pitches[i])\n",
    "            roots[pitches[i]].freq -= 1\n",
    "        roots[pitches[i]].new_notes(pitches[i+1], pitches[i+2])\n",
    "    get_prob()"
   ]
  },
  {
   "cell_type": "code",
   "execution_count": null,
   "metadata": {},
   "outputs": [
    {
     "ename": "FileNotFoundError",
     "evalue": "[Errno 2] No such file or directory: 'vivaldi_spring.mid'",
     "output_type": "error",
     "traceback": [
      "\u001b[1;31m---------------------------------------------------------------------------\u001b[0m",
      "\u001b[1;31mFileNotFoundError\u001b[0m                         Traceback (most recent call last)",
      "\u001b[1;32m<ipython-input-39-146ba59dba5c>\u001b[0m in \u001b[0;36m<module>\u001b[1;34m\u001b[0m\n\u001b[1;32m----> 1\u001b[1;33m \u001b[0mpitches\u001b[0m\u001b[1;33m,\u001b[0m \u001b[0mduration\u001b[0m \u001b[1;33m=\u001b[0m \u001b[0mmidi_to_pitch\u001b[0m\u001b[1;33m(\u001b[0m\u001b[1;34m'vivaldi_spring.mid'\u001b[0m\u001b[1;33m)\u001b[0m\u001b[1;33m\u001b[0m\u001b[1;33m\u001b[0m\u001b[0m\n\u001b[0m\u001b[0;32m      2\u001b[0m \u001b[0mtrie\u001b[0m\u001b[1;33m(\u001b[0m\u001b[0mpitches\u001b[0m\u001b[1;33m,\u001b[0m \u001b[0mduration\u001b[0m\u001b[1;33m)\u001b[0m\u001b[1;33m\u001b[0m\u001b[1;33m\u001b[0m\u001b[0m\n\u001b[0;32m      3\u001b[0m \u001b[0mpitches\u001b[0m\u001b[1;33m,\u001b[0m \u001b[0mduration\u001b[0m \u001b[1;33m=\u001b[0m \u001b[0mmidi_to_pitch\u001b[0m\u001b[1;33m(\u001b[0m\u001b[1;34m'vivaldi_summer.mid'\u001b[0m\u001b[1;33m)\u001b[0m\u001b[1;33m\u001b[0m\u001b[1;33m\u001b[0m\u001b[0m\n\u001b[0;32m      4\u001b[0m \u001b[0mtrie\u001b[0m\u001b[1;33m(\u001b[0m\u001b[0mpitches\u001b[0m\u001b[1;33m,\u001b[0m \u001b[0mduration\u001b[0m\u001b[1;33m)\u001b[0m\u001b[1;33m\u001b[0m\u001b[1;33m\u001b[0m\u001b[0m\n\u001b[0;32m      5\u001b[0m \u001b[0mpitches\u001b[0m\u001b[1;33m,\u001b[0m \u001b[0mduration\u001b[0m \u001b[1;33m=\u001b[0m \u001b[0mmidi_to_pitch\u001b[0m\u001b[1;33m(\u001b[0m\u001b[1;34m'vivaldi_winter.mid'\u001b[0m\u001b[1;33m)\u001b[0m\u001b[1;33m\u001b[0m\u001b[1;33m\u001b[0m\u001b[0m\n",
      "\u001b[1;32m<ipython-input-33-04c339978bba>\u001b[0m in \u001b[0;36mmidi_to_pitch\u001b[1;34m(file)\u001b[0m\n\u001b[0;32m      1\u001b[0m \u001b[1;32mdef\u001b[0m \u001b[0mmidi_to_pitch\u001b[0m\u001b[1;33m(\u001b[0m\u001b[0mfile\u001b[0m\u001b[1;33m)\u001b[0m\u001b[1;33m:\u001b[0m\u001b[1;33m\u001b[0m\u001b[1;33m\u001b[0m\u001b[0m\n\u001b[1;32m----> 2\u001b[1;33m     \u001b[0mmidi_file\u001b[0m \u001b[1;33m=\u001b[0m \u001b[0mMidiFile\u001b[0m\u001b[1;33m(\u001b[0m\u001b[0mfile\u001b[0m\u001b[1;33m)\u001b[0m\u001b[1;33m\u001b[0m\u001b[1;33m\u001b[0m\u001b[0m\n\u001b[0m\u001b[0;32m      3\u001b[0m     \u001b[0mpitches\u001b[0m \u001b[1;33m=\u001b[0m \u001b[1;33m[\u001b[0m\u001b[1;33m]\u001b[0m\u001b[1;33m\u001b[0m\u001b[1;33m\u001b[0m\u001b[0m\n\u001b[0;32m      4\u001b[0m     \u001b[0mduration\u001b[0m \u001b[1;33m=\u001b[0m \u001b[1;33m[\u001b[0m\u001b[1;33m]\u001b[0m\u001b[1;33m\u001b[0m\u001b[1;33m\u001b[0m\u001b[0m\n\u001b[0;32m      5\u001b[0m     \u001b[0mmidi_pitches\u001b[0m \u001b[1;33m=\u001b[0m \u001b[1;33m[\u001b[0m\u001b[1;33m]\u001b[0m\u001b[1;33m\u001b[0m\u001b[1;33m\u001b[0m\u001b[0m\n",
      "\u001b[1;32m~\\anaconda3\\lib\\site-packages\\mido\\midifiles\\midifiles.py\u001b[0m in \u001b[0;36m__init__\u001b[1;34m(self, filename, file, type, ticks_per_beat, charset, debug, clip, tracks)\u001b[0m\n\u001b[0;32m    317\u001b[0m             \u001b[0mself\u001b[0m\u001b[1;33m.\u001b[0m\u001b[0m_load\u001b[0m\u001b[1;33m(\u001b[0m\u001b[0mfile\u001b[0m\u001b[1;33m)\u001b[0m\u001b[1;33m\u001b[0m\u001b[1;33m\u001b[0m\u001b[0m\n\u001b[0;32m    318\u001b[0m         \u001b[1;32melif\u001b[0m \u001b[0mself\u001b[0m\u001b[1;33m.\u001b[0m\u001b[0mfilename\u001b[0m \u001b[1;32mis\u001b[0m \u001b[1;32mnot\u001b[0m \u001b[1;32mNone\u001b[0m\u001b[1;33m:\u001b[0m\u001b[1;33m\u001b[0m\u001b[1;33m\u001b[0m\u001b[0m\n\u001b[1;32m--> 319\u001b[1;33m             \u001b[1;32mwith\u001b[0m \u001b[0mopen\u001b[0m\u001b[1;33m(\u001b[0m\u001b[0mfilename\u001b[0m\u001b[1;33m,\u001b[0m \u001b[1;34m'rb'\u001b[0m\u001b[1;33m)\u001b[0m \u001b[1;32mas\u001b[0m \u001b[0mfile\u001b[0m\u001b[1;33m:\u001b[0m\u001b[1;33m\u001b[0m\u001b[1;33m\u001b[0m\u001b[0m\n\u001b[0m\u001b[0;32m    320\u001b[0m                 \u001b[0mself\u001b[0m\u001b[1;33m.\u001b[0m\u001b[0m_load\u001b[0m\u001b[1;33m(\u001b[0m\u001b[0mfile\u001b[0m\u001b[1;33m)\u001b[0m\u001b[1;33m\u001b[0m\u001b[1;33m\u001b[0m\u001b[0m\n\u001b[0;32m    321\u001b[0m \u001b[1;33m\u001b[0m\u001b[0m\n",
      "\u001b[1;31mFileNotFoundError\u001b[0m: [Errno 2] No such file or directory: 'vivaldi_spring.mid'"
     ]
    }
   ],
   "source": [
    "pitches, duration = midi_to_pitch('vivaldi_spring.mid')\n",
    "trie(pitches, duration)\n",
    "pitches, duration = midi_to_pitch('vivaldi_summer.mid')\n",
    "trie(pitches, duration)\n",
    "pitches, duration = midi_to_pitch('vivaldi_winter.mid')\n",
    "trie(pitches, duration)\n",
    "pitches, duration = midi_to_pitch('vivaldi_autumn.mid')\n",
    "trie(pitches, duration)\n",
    "pitches, duration = midi_to_pitch('sonata13.mid')\n",
    "trie(pitches, duration)\n",
    "pitches, duration = midi_to_pitch('marche_funebre.mid')\n",
    "trie(pitches, duration)\n",
    "pitches, duration = midi_to_pitch('mazurque.mid')\n",
    "trie(pitches, duration)\n",
    "pitches, duration = midi_to_pitch('nutcracker.mid')\n",
    "trie(pitches, duration)\n",
    "pitches, duration = midi_to_pitch('sonata9.mid')\n",
    "trie(pitches, duration)\n",
    "pitches, duration = midi_to_pitch('sonata22.mid')\n",
    "trie(pitches, duration)"
   ]
  },
  {
   "cell_type": "code",
   "execution_count": 20,
   "metadata": {},
   "outputs": [],
   "source": [
    "print_trie()"
   ]
  },
  {
   "cell_type": "code",
   "execution_count": 37,
   "metadata": {},
   "outputs": [],
   "source": [
    "input = [\"C#3\", \"E3\"]\n",
    "melody = input.copy()"
   ]
  },
  {
   "cell_type": "code",
   "execution_count": null,
   "metadata": {},
   "outputs": [
    {
     "name": "stdout",
     "output_type": "stream",
     "text": [
      "['C#3', 'E3', 'C#3', 'G#2', 'G#2', 'A2', 'G#2', 'G#2', 'G#2', 'D3', 'D3', 'D3', 'D#3', 'D#3', 'D3', 'D#3', 'D#3', 'D#2', 'E2', 'E2', 'D#2', 'D#2', 'E2', 'E2', 'B1', 'C2', 'D2', 'E2', 'E1', 'E1', 'C#1', 'C#1', 'C#1', 'C#1', 'C#2', 'D1', 'D2', 'D2', 'F#2', 'A2', 'A2', 'A3', 'A3', 'A2', 'A2', 'F#2', 'F#1', 'F#1', 'B1', 'G#1', 'D#1', 'A#1']\n"
     ]
    }
   ],
   "source": [
    "for i in range(50):\n",
    "    note1 = melody[i]\n",
    "    note2 = melody[i+1]\n",
    "    node2 = roots[note1].children[note2]\n",
    "    dist = list(node2.children.keys())\n",
    "    weights = list([j.probability*100 for j in node2.children.values()])\n",
    "    pred_note = random.choices(dist, weights = weights, k = 1)[0]\n",
    "    melody.append(pred_note)\n",
    "    #print(pred_note)\n",
    "print(melody)"
   ]
  },
  {
   "cell_type": "code",
   "execution_count": 39,
   "metadata": {},
   "outputs": [],
   "source": [
    "instrument = 26\n",
    "pitch_to_midi(melody, instrument)"
   ]
  },
  {
   "cell_type": "code",
   "execution_count": null,
   "metadata": {},
   "outputs": [],
   "source": []
  }
 ],
 "metadata": {
  "kernelspec": {
   "display_name": "Python 3",
   "language": "python",
   "name": "python3"
  },
  "language_info": {
   "codemirror_mode": {
    "name": "ipython",
    "version": 3
   },
   "file_extension": ".py",
   "mimetype": "text/x-python",
   "name": "python",
   "nbconvert_exporter": "python",
   "pygments_lexer": "ipython3",
   "version": "3.8.8"
  }
 },
 "nbformat": 4,
 "nbformat_minor": 2
}
